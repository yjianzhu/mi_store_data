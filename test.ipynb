{
 "cells": [
  {
   "cell_type": "code",
   "execution_count": 14,
   "metadata": {},
   "outputs": [
    {
     "name": "stdout",
     "output_type": "stream",
     "text": [
      "(2, 19023, 'Redmi 12R', 97)\n",
      "(3, 19180, 'Redmi Buds 5', 327903)\n",
      "(4, 19181, 'Redmi Buds 5 AAPE 潮流限定版', 327903)\n"
     ]
    }
   ],
   "source": [
    "from utils import *\n",
    "\n",
    "# for item in query_all_items():\n",
    "#     print(item)\n",
    "\n",
    "# for comment in query_all_comments():\n",
    "#     print(comment)\n",
    "\n",
    "for off_item in query_all_off_shelf_items():\n",
    "    print(off_item)"
   ]
  },
  {
   "cell_type": "code",
   "execution_count": 2,
   "metadata": {},
   "outputs": [
    {
     "name": "stdout",
     "output_type": "stream",
     "text": [
      "/home/yongjian/.wdm/drivers/chromedriver/linux64/125.0.6422.76/chromedriver-linux64/chromedriver\n"
     ]
    }
   ],
   "source": [
    "driver = get_global_driver()"
   ]
  },
  {
   "cell_type": "code",
   "execution_count": 3,
   "metadata": {},
   "outputs": [],
   "source": [
    "driver.quit()"
   ]
  },
  {
   "cell_type": "code",
   "execution_count": 4,
   "metadata": {},
   "outputs": [
    {
     "name": "stdout",
     "output_type": "stream",
     "text": [
      "Xiaomi 14 2149070\n"
     ]
    }
   ],
   "source": [
    "id_mi = 19300\n",
    "goods_name, number_of_comment = get_comment(driver=driver,url = f\"https://www.mi.com/shop/comment/{id_mi}.html\")"
   ]
  },
  {
   "cell_type": "code",
   "execution_count": null,
   "metadata": {},
   "outputs": [],
   "source": [
    "update_all_comment(driver=driver)"
   ]
  },
  {
   "cell_type": "code",
   "execution_count": 12,
   "metadata": {},
   "outputs": [],
   "source": [
    "# 从off_shelf_items表中把数据转移到items表中\n",
    "\n",
    "for index,off_item in enumerate(query_all_off_shelf_items()):\n",
    "    if(index <3):\n",
    "        continue    \n",
    "    insert_item(off_item[1],off_item[2],off_item[3])\n",
    "\n",
    "    #delete off_shelf_item in off_shelf_items table\n",
    "    with sqlite3.connect('mi_items.db') as conn:\n",
    "        cursor = conn.cursor()\n",
    "        cursor.execute(f\"DELETE FROM off_shelf_items WHERE id = {off_item[0]}\")\n",
    "        conn.commit()"
   ]
  }
 ],
 "metadata": {
  "kernelspec": {
   "display_name": "mi_store_spider",
   "language": "python",
   "name": "python3"
  },
  "language_info": {
   "codemirror_mode": {
    "name": "ipython",
    "version": 3
   },
   "file_extension": ".py",
   "mimetype": "text/x-python",
   "name": "python",
   "nbconvert_exporter": "python",
   "pygments_lexer": "ipython3",
   "version": "3.11.0"
  }
 },
 "nbformat": 4,
 "nbformat_minor": 2
}
