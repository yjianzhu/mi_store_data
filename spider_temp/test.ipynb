{
 "cells": [
  {
   "cell_type": "code",
   "execution_count": 1,
   "metadata": {},
   "outputs": [],
   "source": [
    "import requests\n",
    "from bs4 import BeautifulSoup\n",
    "import pandas as pd\n",
    "import schedule\n",
    "import time\n",
    "from selenium.webdriver.common.by import By\n",
    "import random\n",
    "\n",
    "from selenium import webdriver\n",
    "from selenium.webdriver.chrome.service import Service\n",
    "from webdriver_manager.chrome import ChromeDriverManager\n",
    "import sqlite3\n",
    "\n",
    "jspath_number_of_comment = \"#app > div.contain-box > div > div > div.comment-mid.clearfix > div.mid-right > div.m-t > span\"\n",
    "jspath_goods_name = (\"#app > div:nth-child(2) > div:nth-child(1) > div > div > h2\")\n",
    "\n",
    "def get_comment(url):\n",
    "    try:\n",
    "        driver.get(url)\n",
    "    except Exception as e:\n",
    "        print(e)\n",
    "        return \"\", 0\n",
    "    time.sleep(random.randint(5, 10))\n",
    "    \n",
    "    # 获取商品名\n",
    "    try:\n",
    "        element = driver.find_elements(By.CSS_SELECTOR, jspath_goods_name)\n",
    "        if len(element) == 0:\n",
    "            print(\"no such item\")\n",
    "            return \"\", 0\n",
    "    except Exception as e:\n",
    "        print(e)\n",
    "        return \"\", 0\n",
    "    \n",
    "    goods_name = element[0].text\n",
    "    # 获取评论数\n",
    "    try:\n",
    "        element = driver.find_element(By.CSS_SELECTOR, jspath_number_of_comment)\n",
    "        if element == None:\n",
    "            print(\"no such element\")\n",
    "            return \"\", 0\n",
    "        number_of_comment = int(element.text)\n",
    "        print(goods_name, number_of_comment)\n",
    "    except Exception as e:\n",
    "        print(e)\n",
    "        return \"\", 0\n",
    "    return goods_name, number_of_comment"
   ]
  },
  {
   "cell_type": "code",
   "execution_count": 3,
   "metadata": {},
   "outputs": [
    {
     "name": "stdout",
     "output_type": "stream",
     "text": [
      "/home/yongjian/.wdm/drivers/chromedriver/linux64/124.0.6367.207/chromedriver-linux64/chromedriver\n"
     ]
    }
   ],
   "source": [
    "options = webdriver.ChromeOptions()\n",
    "options.add_argument('--headless')  # 无头模式\n",
    "options.add_argument('--disable-gpu')\n",
    "options.add_argument('--no-sandbox')\n",
    "options.add_argument('--disable-dev-shm-usage')\n",
    "# 添加自定义User-Agent\n",
    "user_agent = \"Mozilla/5.0 (Windows NT 10.0; Win64; x64) AppleWebKit/537.36 (KHTML, like Gecko) Chrome/58.0.3029.110 Safari/537.3\"\n",
    "options.add_argument(f\"user-agent={user_agent}\")\n",
    "\n",
    "# 使用 Service 对象指定 ChromeDriver 路径\n",
    "print(ChromeDriverManager().install())\n",
    "s = Service(ChromeDriverManager().install())\n",
    "driver = webdriver.Chrome(service=s, options=options)"
   ]
  },
  {
   "cell_type": "code",
   "execution_count": 4,
   "metadata": {},
   "outputs": [
    {
     "name": "stdout",
     "output_type": "stream",
     "text": [
      "Xiaomi 14 2149070\n"
     ]
    }
   ],
   "source": [
    "id_mi = 19300\n",
    "goods_name, number_of_comment = get_comment(f\"https://www.mi.com/shop/comment/{id_mi}.html\")"
   ]
  }
 ],
 "metadata": {
  "kernelspec": {
   "display_name": "mi_store_spider",
   "language": "python",
   "name": "python3"
  },
  "language_info": {
   "codemirror_mode": {
    "name": "ipython",
    "version": 3
   },
   "file_extension": ".py",
   "mimetype": "text/x-python",
   "name": "python",
   "nbconvert_exporter": "python",
   "pygments_lexer": "ipython3",
   "version": "3.11.0"
  }
 },
 "nbformat": 4,
 "nbformat_minor": 2
}
